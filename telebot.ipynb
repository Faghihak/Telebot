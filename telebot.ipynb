{
 "cells": [
  {
   "cell_type": "code",
   "execution_count": 2,
   "source": [
    "import telebot\r\n",
    "import requests\r\n",
    "from telebot import types\r\n",
    "from pymongo import MongoClient"
   ],
   "outputs": [],
   "metadata": {}
  },
  {
   "cell_type": "code",
   "execution_count": 1,
   "source": [
    "!python --version"
   ],
   "outputs": [
    {
     "output_type": "stream",
     "name": "stdout",
     "text": [
      "Python 3.8.5\n"
     ]
    }
   ],
   "metadata": {}
  },
  {
   "cell_type": "markdown",
   "source": [
    "# Create Database"
   ],
   "metadata": {}
  },
  {
   "cell_type": "code",
   "execution_count": 2,
   "source": [
    "myclient = MongoClient(\"mongodb://localhost:27017/\")\r\n",
    "mydb = myclient[\"sentence_db\"]\r\n",
    "sent_col = mydb[\"sentence_table\"]\r\n",
    "valid_col = mydb[\"validation_table\"]\r\n",
    "myclient.list_database_names()"
   ],
   "outputs": [],
   "metadata": {}
  },
  {
   "cell_type": "markdown",
   "source": [
    "# Check Connection"
   ],
   "metadata": {}
  },
  {
   "cell_type": "code",
   "execution_count": 3,
   "source": [
    "dblist = myclient.list_database_names()\r\n",
    "if \"sentence_db\" in dblist:\r\n",
    "  print(\"The database exists.\")"
   ],
   "outputs": [],
   "metadata": {}
  },
  {
   "cell_type": "markdown",
   "source": [
    "# Adding data to MongoDB"
   ],
   "metadata": {}
  },
  {
   "cell_type": "code",
   "execution_count": null,
   "source": [
    "mylist = []\r\n",
    "f = open('dev.fa', 'r', encoding=\"utf8\")\r\n",
    "for i, line in enumerate(f.readlines()):\r\n",
    "    print(i)\r\n",
    "    tmpdict = {}\r\n",
    "    tmpdict['_id'] = i\r\n",
    "    tmpdict['txt'] = str(line.strip('\\n'))\r\n",
    "    tmpdict['choose_num'] = 0\r\n",
    "    mylist.append(tmpdict)\r\n",
    "\r\n",
    "x = sent_col.insert_many(mylist)\r\n"
   ],
   "outputs": [],
   "metadata": {}
  },
  {
   "cell_type": "markdown",
   "source": [
    "# Random Sampling"
   ],
   "metadata": {}
  },
  {
   "cell_type": "code",
   "execution_count": null,
   "source": [
    "def random_sample():\r\n",
    "    a = sent_col.aggregate([{\"$sample\": {\"size\": 1}}, {\"$match\": {\"choose_num\": {\"$lte\": 5}}}])\r\n",
    "    sample = list(a)[0]\r\n",
    "#     choose_num = sample['choose_num']\r\n",
    "    return sample\r\n",
    "\r\n",
    "def random_validation():\r\n",
    "    a = valid_col.aggregate([{\"$sample\": {\"size\": 1}}, {\"$match\": {\"valid_cnt\": {\"$lte\": 5}}}])\r\n",
    "    sample = list(a)[0]\r\n",
    "#     choose_num = sample['choose_num']\r\n",
    "    return sample\r\n",
    "\r\n",
    "def update_choose_num(id, ch_n):\r\n",
    "    myquery = {\"_id\": id}\r\n",
    "    newvalues = {\"$set\": {\"choose_num\": ch_n+1}}\r\n",
    "    sent_col.update_one(myquery, newvalues)\r\n",
    "    \r\n",
    "def update_valid_cnt(id, v_cnt):\r\n",
    "    myquery = {\"_id\": id}\r\n",
    "    newvalues = {\"$set\": {\"valid_cnt\": v_cnt+1}}\r\n",
    "    valid_col.update_one(myquery, newvalues)\r\n",
    "\r\n",
    "def update_validation(id, validation):\r\n",
    "    myquery = {\"_id\": id}\r\n",
    "    newvalues = {\"$push\": {\"validations\": validation}}\r\n",
    "    valid_col.update_one(myquery, newvalues)\r\n",
    "\r\n",
    "rs = random_validation()\r\n",
    "print(rs)"
   ],
   "outputs": [],
   "metadata": {}
  },
  {
   "cell_type": "markdown",
   "source": [
    "# Recording Bot"
   ],
   "metadata": {}
  },
  {
   "cell_type": "code",
   "execution_count": null,
   "source": [
    "TOKEN=\"1402079733:AAH3rvaEdhYehfyTTwie5JHVKnnYSsi9RwI\"\r\n",
    "bot = telebot.TeleBot(TOKEN, parse_mode=None)\r\n",
    "last_id = []\r\n",
    "last_choose_num = []\r\n",
    "user = bot.get_me()\r\n",
    "chat_id = user.id\r\n",
    "updates = bot.get_updates()\r\n",
    "data_entries = []\r\n",
    "\r\n",
    "class Entry:\r\n",
    "    def __init__(self, text, audio_path, is_validated):\r\n",
    "        self.text = text\r\n",
    "        self.audio_path = audio_path\r\n",
    "        self.is_validated = is_validated\r\n",
    "\r\n",
    "\r\n",
    "cmd1 = types.BotCommand('new', 'record new sentence')\r\n",
    "\r\n",
    "@bot.message_handler(commands=['start'])\r\n",
    "def new_sentence(message):\r\n",
    "    bot.send_message(message.from_user.id, \"سلام. به بات من خوش آمدید.\")\r\n",
    "    keyboard = types.ReplyKeyboardMarkup(resize_keyboard=True)\r\n",
    "    speak_button = types.KeyboardButton(text=\"جمله ی جدید\")\r\n",
    "    keyboard.add(speak_button)\r\n",
    "    bot.send_message(message.chat.id, \"برای دریافت جمله ی جدید، دکمه ی زیر رو فشار بدین\", reply_markup=keyboard)\r\n",
    "\r\n",
    "    \r\n",
    "# @bot.message_handler(commands=['start', 'help'])\r\n",
    "# def send_welcome(message):\r\n",
    "#     bot.reply_to(message, \"سلاام، به بات من خوش آمدید. برای شروع لطفا دستور '/new' را وارد کنید.\")\r\n",
    "\r\n",
    "\r\n",
    "@bot.message_handler(content_types=['text'])\r\n",
    "def handle_message(message):\r\n",
    "    if message.text == \"جمله ی جدید\":\r\n",
    "        bot.send_message(message.from_user.id, \"جمله ی زیر رو بخونید: \")\r\n",
    "        sample = random_sample()\r\n",
    "        print(sample)\r\n",
    "        bot.send_message(message.from_user.id, sample['txt'])\r\n",
    "        last_id.append(sample['_id'])\r\n",
    "        last_choose_num.append(sample['choose_num'])\r\n",
    "\r\n",
    "\r\n",
    "@bot.message_handler(content_types=['voice'])\r\n",
    "def handle_voice(message):\r\n",
    "    file_info = bot.get_file(message.voice.file_id)\r\n",
    "    chat_id = message.from_user.id\r\n",
    "    try: \r\n",
    "        file = requests.get('https://api.telegram.org/file/bot{0}/{1}'.format(TOKEN, file_info.file_path))\r\n",
    "        filepath = \"voice/{}_{}.wav\".format(str(last_id[-1]), str(last_choose_num[-1]))\r\n",
    "        with open(filepath, mode='bx') as f:\r\n",
    "            f.write(file.content)\r\n",
    "        f.close()\r\n",
    "        bot.send_message(chat_id, \"صدای شما ضبط شد.\")\r\n",
    "        update_choose_num(last_id[-1], last_choose_num[-1])\r\n",
    "        text = sent_col.find_one({\"_id\": last_id[-1]})['txt']\r\n",
    "        col_record = valid_col.insert_one({\"_id\": \"{}_{}\".format(str(last_id[-1]), str(last_choose_num[-1])), \"txt\": text, \"filepath\": filepath, \"valid_cnt\": 0, \"validations\": []})\r\n",
    "    except Exception as e:\r\n",
    "        print(e)\r\n",
    "\r\n",
    "bot.polling()"
   ],
   "outputs": [],
   "metadata": {}
  },
  {
   "cell_type": "markdown",
   "source": [
    "# Validation Bot"
   ],
   "metadata": {}
  },
  {
   "cell_type": "code",
   "execution_count": null,
   "source": [
    "TOKEN=\"1631882992:AAFLWcnyWZBaCBhDgCH1HpadBoAXLlAw210\"\r\n",
    "bot = telebot.TeleBot(TOKEN, parse_mode=None)\r\n",
    "last_id = []\r\n",
    "last_valid_cnt = []\r\n",
    "user = bot.get_me()\r\n",
    "chat_id = user.id\r\n",
    "updates = bot.get_updates()\r\n",
    "data_entries = []\r\n",
    "\r\n",
    "class Entry:\r\n",
    "    def __init__(self, text, audio_path, is_validated):\r\n",
    "        self.text = text\r\n",
    "        self.audio_path = audio_path\r\n",
    "        self.is_validated = is_validated\r\n",
    "\r\n",
    "\r\n",
    "cmd1 = types.BotCommand('new', 'record new sentence')\r\n",
    "\r\n",
    "\r\n",
    "# @bot.message_handler(commands=['start', 'help'])\r\n",
    "# def send_welcome(message):\r\n",
    "#     bot.reply_to(message, \"سلاام، به بات من خوش آمدید. برای شروع لطفا دستور '/new' را وارد کنید.\")\r\n",
    "\r\n",
    "\r\n",
    "@bot.message_handler(commands=['new'])\r\n",
    "def new_sentence(message):\r\n",
    "    bot.send_message(message.from_user.id, \"سلام. به بات ارزیابی خوش آمدید.\")\r\n",
    "    keyboard = types.ReplyKeyboardMarkup(row_width=1, one_time_keyboard=True)\r\n",
    "    valid_button = types.KeyboardButton(text=\"ارزیابی جدید\")\r\n",
    "    keyboard.add(valid_button)\r\n",
    "    bot.send_message(message.chat.id, \"برای دریافت جمله ی جدید، دکمه ی زیر رو فشار بدین\", reply_markup=keyboard)\r\n",
    "\r\n",
    "\r\n",
    "\r\n",
    "@bot.message_handler(content_types=['text'])\r\n",
    "def handle_message(message):\r\n",
    "    if message.text == \"ارزیابی جدید\":\r\n",
    "        bot.send_message(message.from_user.id, \"جمله و صدای زیر را از نظر مطابقت متن و صدا، و کیفیت صدا ارزیابی کنید: \")\r\n",
    "        sample = random_validation()\r\n",
    "        print(sample)\r\n",
    "        bot.send_message(message.from_user.id, sample['txt'])\r\n",
    "        voice = open(sample['filepath'], 'rb')\r\n",
    "        bot.send_voice(message.from_user.id, voice)\r\n",
    "        last_id.append(sample['_id'])\r\n",
    "        last_valid_cnt.append(sample['valid_cnt'])\r\n",
    "        keyboard2 = types.ReplyKeyboardMarkup(resize_keyboard=True, one_time_keyboard=True)\r\n",
    "        good_btn = types.KeyboardButton(text=\"خوب\")\r\n",
    "        bad_btn = types.KeyboardButton(text=\"بد\")\r\n",
    "        keyboard2.add(good_btn, bad_btn)\r\n",
    "        bot.send_message(message.chat.id, \"ارزیابی خودتون را ثبت کنید\", reply_markup=keyboard2)\r\n",
    "    elif message.text == \"خوب\":\r\n",
    "        update_valid_cnt(last_id[-1], last_valid_cnt[-1])\r\n",
    "        update_validation(last_id[-1], 1)\r\n",
    "        bot.send_message(message.chat.id, \"ارزیابی شما: {}\".format(\"خوب\"))\r\n",
    "        keyboard = types.ReplyKeyboardMarkup(resize_keyboard=True, one_time_keyboard=True)\r\n",
    "        valid_button = types.KeyboardButton(text=\"ارزیابی جدید\")\r\n",
    "        keyboard.add(valid_button)\r\n",
    "        bot.send_message(message.chat.id, \"برای دریافت جمله ی جدید، دکمه ی زیر رو فشار بدین\", reply_markup=keyboard)\r\n",
    "        print(\"خوب\")\r\n",
    "    elif message.text == \"بد\":\r\n",
    "        update_valid_cnt(last_id[-1], last_valid_cnt[-1])\r\n",
    "        update_validation(last_id[-1], 0)\r\n",
    "        bot.send_message(message.chat.id, \"ارزیابی شما: {}\".format(\"بد\"))\r\n",
    "        keyboard = types.ReplyKeyboardMarkup(row_width=1, one_time_keyboard=True)\r\n",
    "        valid_button = types.KeyboardButton(text=\"ارزیابی جدید\")\r\n",
    "        keyboard.add(valid_button)\r\n",
    "        bot.send_message(message.chat.id, \"برای دریافت جمله ی جدید، دکمه ی زیر رو فشار بدین\", reply_markup=keyboard)\r\n",
    "        print(\"بد\")\r\n",
    "    \r\n",
    "    \r\n",
    "        \r\n",
    "        \r\n",
    "@bot.message_handler(content_types=['voice'])\r\n",
    "def handle_voice(message):\r\n",
    "    file_info = bot.get_file(message.voice.file_id)\r\n",
    "    chat_id = message.from_user.id\r\n",
    "    try: \r\n",
    "        file = requests.get('https://api.telegram.org/file/bot{0}/{1}'.format(TOKEN, file_info.file_path))\r\n",
    "        with open(\"{}_{}.wav\".format(str(last_id[-1]), str(last_choose_num[-1])), mode='bx') as f:\r\n",
    "            f.write(file.content)\r\n",
    "        bot.send_message(chat_id, \"صدای شما ضبط شد.\")\r\n",
    "        update_choose_num(last_id[-1], last_choose_num[-1])\r\n",
    "    except:\r\n",
    "        print(\"error in response\")\r\n",
    "\r\n",
    "bot.polling()"
   ],
   "outputs": [],
   "metadata": {}
  },
  {
   "cell_type": "code",
   "execution_count": null,
   "source": [],
   "outputs": [],
   "metadata": {}
  },
  {
   "cell_type": "code",
   "execution_count": null,
   "source": [],
   "outputs": [],
   "metadata": {}
  }
 ],
 "metadata": {
  "kernelspec": {
   "display_name": "Python 3",
   "language": "python",
   "name": "python3"
  },
  "language_info": {
   "codemirror_mode": {
    "name": "ipython",
    "version": 3
   },
   "file_extension": ".py",
   "mimetype": "text/x-python",
   "name": "python",
   "nbconvert_exporter": "python",
   "pygments_lexer": "ipython3",
   "version": "3.8.5"
  }
 },
 "nbformat": 4,
 "nbformat_minor": 4
}