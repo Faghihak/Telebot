{
 "cells": [
  {
   "cell_type": "code",
   "execution_count": 1,
   "metadata": {},
   "outputs": [],
   "source": [
    "from parsivar import Normalizer\n",
    "from parsivar import Tokenizer\n",
    "import re\n",
    "my_normalizer = Normalizer()\n",
    "my_tokenizer = Tokenizer()"
   ]
  },
  {
   "cell_type": "code",
   "execution_count": 2,
   "metadata": {},
   "outputs": [],
   "source": [
    "txt = \"به محض اینکه تیپر و من کاخ سفید را (گریه ساختگی) ترک کردیم — (خنده) — از خونه مون در نشویل به سمت مزرعه کوچکمان در ۵۰ مایلی شرق نشویل — خودمون رانندگی کردیم.\""
   ]
  },
  {
   "cell_type": "code",
   "execution_count": 3,
   "metadata": {},
   "outputs": [
    {
     "data": {
      "text/plain": [
       "'به محض اینکه تیپر و من کاخ سفید را ( گریه ساختگی ) ترک کردیم ( خنده ) از خونه مون در نشویل به سمت مزرعه کوچکمان در 50 مایلی شرق نشویل خودمون رانندگی کردیم .'"
      ]
     },
     "execution_count": 3,
     "metadata": {},
     "output_type": "execute_result"
    }
   ],
   "source": [
    "my_normalizer.normalize(txt)"
   ]
  },
  {
   "cell_type": "code",
   "execution_count": 4,
   "metadata": {},
   "outputs": [],
   "source": [
    "# # all_sents = []\n",
    "# f = open('train.fa', 'r', encoding=\"utf8\")\n",
    "# fout = open('train.fa.normalized', 'w', encoding=\"utf8\")\n",
    "# for line in f.readlines():\n",
    "#     line = my_normalizer.normalize(line)\n",
    "#     fout.write(line + '\\n')"
   ]
  },
  {
   "cell_type": "code",
   "execution_count": 5,
   "metadata": {},
   "outputs": [],
   "source": [
    "ff = open('train.fa.normalized', 'r', encoding=\"utf8\")\n",
    "ffout = open('train.fa.prep', 'w', encoding=\"utf8\")\n",
    "findex = open('train.fa.prep.index', 'w', encoding=\"utf8\")\n",
    "for i, line in enumerate(ff.readlines()):\n",
    "    if 5 <= len(line.split()) <= 30 and not bool(re.search('[a-zA-Z]', line)):\n",
    "        findex.write('line number in original text: {}\\n'.format(str(i+1)))\n",
    "        ffout.write(line)"
   ]
  },
  {
   "cell_type": "code",
   "execution_count": null,
   "metadata": {},
   "outputs": [],
   "source": []
  }
 ],
 "metadata": {
  "kernelspec": {
   "display_name": "Python 3",
   "language": "python",
   "name": "python3"
  },
  "language_info": {
   "codemirror_mode": {
    "name": "ipython",
    "version": 3
   },
   "file_extension": ".py",
   "mimetype": "text/x-python",
   "name": "python",
   "nbconvert_exporter": "python",
   "pygments_lexer": "ipython3",
   "version": "3.8.5"
  }
 },
 "nbformat": 4,
 "nbformat_minor": 4
}
